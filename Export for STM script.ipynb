{
 "cells": [
  {
   "cell_type": "markdown",
   "metadata": {},
   "source": [
    "# Exporting dataframe for R\n",
    "\n",
    "A part of the analytical process (the generation of CTM and STM models) has to be done in R. To keep the analysis consistent the processing of the tweets needs to remain unchanged, so the processed tweets and relevant metadata are processed into a dataframe that can be easily read by R. \n",
    "\n",
    "Here the processed tokens are also joined together into a string with spaces separating the tokens. This is because strings are easier to read into an R environment than a large number of lists of strings. The string is then separated into tokens once again in the R environment. "
   ]
  },
  {
   "cell_type": "code",
   "execution_count": 1,
   "metadata": {},
   "outputs": [],
   "source": [
    "#LOADING INDIVIDUAL TWEETS\n",
    "from os import listdir\n",
    "import json\n",
    "import logging\n",
    "import pandas as pd\n",
    "from nltk.corpus import stopwords\n",
    "\n",
    "logging.basicConfig(format='%(asctime)s : %(levelname)s : %(message)s', level=logging.INFO)\n",
    "\n",
    "path = 'PATH'\n",
    "tweets = []\n",
    "stops = set(stopwords.words('dutch'))\n",
    "\n",
    "for month in ['08']: #controls for month \n",
    "    for file in listdir(path):\n",
    "        if file.split('_')[0] == month:   \n",
    "            with open(path + '/' + file, 'r') as infile:\n",
    "                data = json.loads(infile.read())\n",
    "                for identifier in data.keys(): \n",
    "                    tweet = []\n",
    "                    for token in range(len(data[identifier]['full_frog'])):\n",
    "                        if data[identifier]['full_frog'][token]['dep'] != 'punct':\n",
    "                            if data[identifier]['full_frog'][token]['lemma'] not in stops:\n",
    "                                tweet.append(data[identifier]['full_frog'][token]['lemma'].lower())\n",
    "                    tweet = ' '.join(tweet)\n",
    "                    tweets.append([identifier, data[identifier]['created_at'], tweet, data[identifier]['user']['followers_count'], \n",
    "                                  data[identifier]['user']['monthly_tweets'], data[identifier]['user']['monthly_relevant_tweets']])\n",
    "                \n"
   ]
  },
  {
   "cell_type": "code",
   "execution_count": 2,
   "metadata": {},
   "outputs": [],
   "source": [
    "from datetime import datetime\n",
    "import feather\n",
    "\n",
    "#Creating dataframe that can be easily read in R\n",
    "df = pd.DataFrame(tweets, columns=[\"Identifier\", \"Timestamp\", \"Text\", \"Followers\", \"Frequency\", \"Relevant Frequency\"])\n",
    "\n",
    "start_time = datetime.strptime('Wed Aug 1 00:00:00 +0000 2018', '%a %b %d %X %z %Y')\n",
    "\n",
    "indays = [((datetime.strptime(time, '%a %b %d %X %z %Y')-start_time).days)+1 for time in df['Timestamp']]\n",
    "\n",
    "df['Days'] = indays\n",
    "\n",
    "#Saving the dataframe as a feather file that can be read by R\n",
    "feather.write_dataframe(df, 'C:/dataframe.feather')"
   ]
  }
 ],
 "metadata": {
  "kernelspec": {
   "display_name": "Python 3",
   "language": "python",
   "name": "python3"
  },
  "language_info": {
   "codemirror_mode": {
    "name": "ipython",
    "version": 3
   },
   "file_extension": ".py",
   "mimetype": "text/x-python",
   "name": "python",
   "nbconvert_exporter": "python",
   "pygments_lexer": "ipython3",
   "version": "3.6.5"
  }
 },
 "nbformat": 4,
 "nbformat_minor": 2
}
